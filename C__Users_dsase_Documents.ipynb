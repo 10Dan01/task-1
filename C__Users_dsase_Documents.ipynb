{
 "cells": [
  {
   "cell_type": "code",
   "execution_count": 37,
   "metadata": {},
   "outputs": [
    {
     "name": "stdout",
     "output_type": "stream",
     "text": [
      "Daniyar dsasenov@mail.ru\n"
     ]
    }
   ],
   "source": [
    "print('Daniyar' + ' ' + 'dsasenov@mail.ru')"
   ]
  },
  {
   "cell_type": "code",
   "execution_count": 38,
   "metadata": {},
   "outputs": [
    {
     "name": "stdout",
     "output_type": "stream",
     "text": [
      "inter your name pls\n",
      "Daniyar\n",
      "Hello Daniyar\n"
     ]
    }
   ],
   "source": [
    "print('inter your name pls')\n",
    "a=input()\n",
    "print('Hello' + ' ' + a)"
   ]
  },
  {
   "cell_type": "code",
   "execution_count": 39,
   "metadata": {},
   "outputs": [
    {
     "name": "stdout",
     "output_type": "stream",
     "text": [
      "input length and width\n",
      "2\n",
      "3\n",
      "the area of the room is 6.0 meters\n"
     ]
    }
   ],
   "source": [
    "print('input length and width')\n",
    "a=float(input())\n",
    "b=float(input())\n",
    "print('the area of the room is ' + str(a*b) + ' meters')"
   ]
  },
  {
   "cell_type": "code",
   "execution_count": null,
   "metadata": {},
   "outputs": [],
   "source": [
    "a=int(input())\n",
    "b=int(input())\n",
    "print('There are ' + str(a*b) + ' square feet in an acre')"
   ]
  },
  {
   "cell_type": "code",
   "execution_count": null,
   "metadata": {},
   "outputs": [],
   "source": [
    "print('input the number of <1 liter bottles')\n",
    "a=int(input())\n",
    "print('input the number of >1 liter bottles')\n",
    "b=int(input())\n",
    "print(str(a*0.1) + '$ ' + str(b*0.25) + '$')"
   ]
  },
  {
   "cell_type": "code",
   "execution_count": null,
   "metadata": {},
   "outputs": [],
   "source": [
    "a=int(input())\n",
    "b=float()\n",
    "c=float()\n",
    "b=a/10\n",
    "c=a*18/100\n",
    "print(str(b) + ' ' + str(c) + ' ' + str(a+b+c))"
   ]
  },
  {
   "cell_type": "code",
   "execution_count": null,
   "metadata": {},
   "outputs": [],
   "source": [
    "n=int(input())\n",
    "sum=int()\n",
    "sum=n*(n+1)*2\n",
    "print(sum)"
   ]
  },
  {
   "cell_type": "code",
   "execution_count": null,
   "metadata": {},
   "outputs": [],
   "source": [
    "print('input the number of widgets')\n",
    "a=int(input())\n",
    "print('input the number of gizmos')\n",
    "b=int(input())\n",
    "print('the total weight is ' + str(a*75+b*112) + ' grams')"
   ]
  },
  {
   "cell_type": "code",
   "execution_count": null,
   "metadata": {},
   "outputs": [],
   "source": [
    "a=float(input())\n",
    "print(str(round(a/25*1, 2)) + ' ' + str(round(a/25*2, 2)) + ' ' + str(round(a/25*3, 2)))"
   ]
  },
  {
   "cell_type": "code",
   "execution_count": null,
   "metadata": {},
   "outputs": [],
   "source": [
    "import math\n",
    "a=int(input())\n",
    "b=int(input())\n",
    "print(a+b)\n",
    "print(a-b)\n",
    "print(a*b)\n",
    "print(a/b)\n",
    "print(a%b)\n",
    "print(math.log10(a))\n",
    "print(str(a) + str(b))"
   ]
  },
  {
   "cell_type": "code",
   "execution_count": null,
   "metadata": {},
   "outputs": [],
   "source": [
    "a=int(input())\n",
    "print(str(a*235.215) + ' L/100km')"
   ]
  },
  {
   "cell_type": "code",
   "execution_count": null,
   "metadata": {},
   "outputs": [],
   "source": [
    "import math\n",
    "\n",
    "print('first point')\n",
    "a=int(input())\n",
    "b=int(input())\n",
    "print('second point')\n",
    "c=int(input())\n",
    "d=int(input())\n",
    "\n",
    "print(6371.01*math.acos(math.sin(math.radians(a))*math.sin(math.radians(b)) + math.cos(math.radians(a))*math.cos(math.radians(b))*math.cos(math.radians(c-d))))"
   ]
  },
  {
   "cell_type": "code",
   "execution_count": null,
   "metadata": {},
   "outputs": [],
   "source": [
    "a=int(input())\n",
    "b= (a//200)\n",
    "c= (a-b*200)//100\n",
    "d= (a-c*100-b*200)//25\n",
    "e= (a-d*25-c*100-b*200)//10\n",
    "f= (a-e*10-d*25-c*100-b*200)//5\n",
    "g= (a-f*5-e*10-d*25-c*100-b*200)//1\n",
    "\n",
    "print(str(b) + ' toonies')\n",
    "print(str(c) + ' loonies')\n",
    "print(str(d) + ' quarters')\n",
    "print(str(e) + ' dimes')\n",
    "print(str(f) + ' nickels')\n",
    "print(str(g) + ' pennies')"
   ]
  },
  {
   "cell_type": "code",
   "execution_count": null,
   "metadata": {},
   "outputs": [],
   "source": [
    "print('input feet')\n",
    "a=int(input())\n",
    "print('input inches')\n",
    "b=int(input())\n",
    "print(str(a*12*2.54+b*2.54) + ' centimeters')"
   ]
  },
  {
   "cell_type": "code",
   "execution_count": null,
   "metadata": {},
   "outputs": [],
   "source": [
    "print('input feet')\n",
    "a=int(input())\n",
    "print(str(a*12) + ' inches')\n",
    "print(str(a*0.333) + ' yards')\n",
    "print(str(a*2*10**-4) + ' miles')"
   ]
  },
  {
   "cell_type": "code",
   "execution_count": null,
   "metadata": {},
   "outputs": [],
   "source": [
    "import math\n",
    "\n",
    "r=int(input())\n",
    "print('The area of the circle is ' + str(math.pi * r**2))\n",
    "print('The volume of the sphere is ' + str(4/3*math.pi*r**3))"
   ]
  },
  {
   "cell_type": "code",
   "execution_count": null,
   "metadata": {},
   "outputs": [],
   "source": [
    "print('input Temperature')\n",
    "T=int(input())\n",
    "print('input mass of water')\n",
    "m=float(input())\n",
    "print('Energy needed ' + str(4.186*T*m))\n",
    "print('Cost to heat water ' + str((4.186*T*m)*0.00000027777*8.9))"
   ]
  },
  {
   "cell_type": "code",
   "execution_count": null,
   "metadata": {},
   "outputs": [],
   "source": [
    "import math\n",
    "\n",
    "print('input the radius')\n",
    "a=int(input())\n",
    "print('input the height')\n",
    "b=int(input())\n",
    "print('The volume of a cylinder is ' + str(math.pi*a**2*b))"
   ]
  },
  {
   "cell_type": "code",
   "execution_count": null,
   "metadata": {},
   "outputs": [],
   "source": [
    "a=int(input())\n",
    "g=9.8\n",
    "v1=0\n",
    "v=v1+g*a\n",
    "print(v)"
   ]
  },
  {
   "cell_type": "code",
   "execution_count": null,
   "metadata": {},
   "outputs": [],
   "source": [
    "print('input amount of pressure')\n",
    "p=int(input())\n",
    "print('input volume')\n",
    "v=int(input())\n",
    "R=8.314\n",
    "print('input temperature')\n",
    "T=int(input())\n",
    "print('is Temperature in Kelvin or Celcius or Fahrenheit')\n",
    "a=(input())\n",
    "if a=='Kelvin':\n",
    "    T=T-273.15\n",
    "elif a=='Celcius':\n",
    "    T=T\n",
    "else:\n",
    "    T=(T-32)*5/9\n",
    "print((p*v)/(R*T))"
   ]
  },
  {
   "cell_type": "code",
   "execution_count": null,
   "metadata": {},
   "outputs": [],
   "source": [
    "print('input height')\n",
    "h=int(input())\n",
    "print('input length')\n",
    "b=int(input())\n",
    "print(b*h/2)"
   ]
  },
  {
   "cell_type": "code",
   "execution_count": null,
   "metadata": {},
   "outputs": [],
   "source": [
    "import math \n",
    "\n",
    "print('input 1 side of Triangle')\n",
    "a=int(input())\n",
    "print('input 2 side of Triangle')\n",
    "b=int(input())\n",
    "print('input 3 side of Triangle')\n",
    "c=int(input())\n",
    "s=(a+b+c)/2\n",
    "print(math.sqrt(s*(s-a)*(s-b)*(s-c)))\n",
    "\n"
   ]
  },
  {
   "cell_type": "code",
   "execution_count": null,
   "metadata": {},
   "outputs": [],
   "source": [
    "import math\n",
    "print('input length')\n",
    "s=int(input())\n",
    "print('input the number of sides')\n",
    "n=int(input())\n",
    "print(n*(s**2/(4*math.tan(math.pi/n))))"
   ]
  },
  {
   "cell_type": "code",
   "execution_count": null,
   "metadata": {},
   "outputs": [],
   "source": [
    "print('input days')\n",
    "a=int(input())\n",
    "print('input hours')\n",
    "b=int(input())\n",
    "print('input minutes')\n",
    "c=int(input())\n",
    "print('input seconds')\n",
    "d=int(input())\n",
    "print('The total number of seconds is ' + str((a*24*60*60)+(b*60*60)+(c*60)+d))"
   ]
  },
  {
   "cell_type": "code",
   "execution_count": null,
   "metadata": {},
   "outputs": [],
   "source": [
    "print('input seconds')\n",
    "a=int(input())\n",
    "d=a//(24*3600)\n",
    "h=(a-d*24*3600)//3600\n",
    "m=(a-h*3600-d*24*3600)//60\n",
    "s=(a-m*60-h*3600-d*24*3600)//1\n",
    "print(str(d).zfill(2) + ':' + str(h).zfill(2) + ':' + str(m).zfill(2) + ':' + str(s).zfill(2))\n"
   ]
  },
  {
   "cell_type": "code",
   "execution_count": null,
   "metadata": {},
   "outputs": [],
   "source": [
    "from datetime import datetime, date\n",
    "\n",
    "b=date.today()\n",
    "a=datetime.now()\n",
    "current_time = a.strftime(\"%H:%M:%S\")\n",
    "print(current_time)\n",
    "print(b)"
   ]
  },
  {
   "cell_type": "code",
   "execution_count": null,
   "metadata": {},
   "outputs": [],
   "source": [
    "print('input height')\n",
    "h=float(input())\n",
    "print('input weight')\n",
    "w=float(input())\n",
    "print('To calculate in inches and pounds input 1')\n",
    "print('To calculate in meters and kilograms input 2')\n",
    "a=int(input())\n",
    "if a==1:\n",
    "    print(w/h**2 * 703)\n",
    "else:\n",
    "    print(w/h**2)"
   ]
  },
  {
   "cell_type": "code",
   "execution_count": null,
   "metadata": {},
   "outputs": [],
   "source": [
    "print('input temperature')\n",
    "T=int(input())\n",
    "print('input speed')\n",
    "V=int(input())\n",
    "print(round(13.12 + 0.6215*T - 11.37*V**0.16 + 0.3965*T*V**0.16))"
   ]
  },
  {
   "cell_type": "code",
   "execution_count": null,
   "metadata": {},
   "outputs": [],
   "source": [
    "print('input Temperature')\n",
    "T=int(input())\n",
    "print('Temperature in Kelvin = ' + str(T+273.15))\n",
    "print('Temperature in Fahrenheit = ' + str(T*9/5+32))"
   ]
  },
  {
   "cell_type": "code",
   "execution_count": null,
   "metadata": {},
   "outputs": [],
   "source": [
    "input('Temperature in Kilopascal')\n",
    "T=int(input())\n",
    "print('psi = ' + str(T*0.145038))\n",
    "print('atm = ' + str(T*0.00986923))\n",
    "print('mrs = ' + str(T*7.5))"
   ]
  },
  {
   "cell_type": "code",
   "execution_count": null,
   "metadata": {},
   "outputs": [],
   "source": [
    "print('input your number')\n",
    "a=int(input())\n",
    "b=a//1000\n",
    "c=(a-b*1000)//100\n",
    "d=(a-b*1000-c*100)//10\n",
    "e=a%10\n",
    "print(b+c+d+e)"
   ]
  },
  {
   "cell_type": "code",
   "execution_count": null,
   "metadata": {},
   "outputs": [],
   "source": [
    "print('input 3 numbers')\n",
    "a=int(input())\n",
    "b=int(input())\n",
    "c=int(input())\n",
    "max_=max(a,b,c)\n",
    "min_=min(a,b,c)\n",
    "average=(a+b+c)-(max_ + min_)\n",
    "print(min_, average, max_)"
   ]
  },
  {
   "cell_type": "code",
   "execution_count": null,
   "metadata": {},
   "outputs": [],
   "source": [
    "print('input number of loaves')\n",
    "a=int(input())\n",
    "print(\"Price: \"+str(round(a*3.49, 2)))\n",
    "print(\"Discount: \"+str(round(a*3.49*0.4, 2)))"
   ]
  },
  {
   "cell_type": "code",
   "execution_count": null,
   "metadata": {},
   "outputs": [],
   "source": []
  }
 ],
 "metadata": {
  "kernelspec": {
   "display_name": "Python 3",
   "language": "python",
   "name": "python3"
  },
  "language_info": {
   "codemirror_mode": {
    "name": "ipython",
    "version": 3
   },
   "file_extension": ".py",
   "mimetype": "text/x-python",
   "name": "python",
   "nbconvert_exporter": "python",
   "pygments_lexer": "ipython3",
   "version": "3.8.3"
  }
 },
 "nbformat": 4,
 "nbformat_minor": 4
}
